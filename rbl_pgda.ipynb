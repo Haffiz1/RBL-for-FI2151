import pandas as pd
import matplotlib.pyplot as plt
from matplotlib.offsetbox import OffsetImage, AnnotationBbox
import matplotlib.image as mpimg

# Membaca file Excel
df = pd.read_excel('C:/Users/Lenovo/Documents/Coding Codes/PGDA/data_rbl.xlsx')

# Muat peta sebagai background
img = mpimg.imread('C:/Users/Lenovo/Documents/Coding Codes/PGDA/peta_jabar.jpg')
plt.figure(figsize=(10, 8))

# Koordinat peta
plt.imshow(img, extent=[min(df['Bujur']), max(df['Bujur']), min(df['Lintang']), max(df['Lintang'])], alpha=0.6)

# Scatter plot
scatter = plt.scatter(data=df, x='Bujur', y='Lintang', c='Penghasilan Pemerintah', s=df['Jumlah Penduduk']*10, cmap='RdYlGn', edgecolor='k', alpha=0.7)

# Label kota/kabupaten
for i in range(len(df)):
    plt.text(df['Bujur'][i], df['Lintang'][i], df['Kota/Kabupaten'][i], fontsize=6, ha='right', va='bottom')

# Plot
plt.title('Persebaran Penghasilan Pemerintah dan Jumlah Penduduk Kabupaten/Kota di Jawa Barat', fontsize=10)
plt.xlabel('Bujur')
plt.ylabel('Lintang')
plt.colorbar(scatter, label='Penghasilan Pemerintah')
plt.grid(False)
plt.show()
